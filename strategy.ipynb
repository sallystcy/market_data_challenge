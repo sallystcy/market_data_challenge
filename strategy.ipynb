{
 "cells": [
  {
   "cell_type": "code",
   "execution_count": 95,
   "metadata": {},
   "outputs": [],
   "source": [
    "import datetime\n",
    "import pandas as pd \n",
    "import numpy as np \n",
    "import os\n",
    "import glob \n",
    "import matplotlib.pyplot as plt\n",
    "import itertools"
   ]
  },
  {
   "cell_type": "markdown",
   "metadata": {},
   "source": [
    "## Strategy"
   ]
  },
  {
   "cell_type": "code",
   "execution_count": 96,
   "metadata": {},
   "outputs": [],
   "source": [
    "def compute_returns(prices): \n",
    "    return (prices - prices.shift(1)) / prices\n",
    "\n",
    "def compute_moving_average(returns, window): \n",
    "    return returns.rolling(window).mean()\n",
    "\n",
    "def compute_signal(returns, signal_function, *args): \n",
    "    signal = signal_function(returns, *args)\n",
    "    return signal\n",
    "\n",
    "def compute_position(signal, position_scale = 0.1): \n",
    "    return signal * position_scale\n",
    "\n",
    "def compute_strategy_returns(returns, positions): \n",
    "    return 1 + (returns * positions.shift(1)).sum(axis = 1)\n",
    "\n",
    "def compute_strategy(prices, signal_function, *args): \n",
    "    returns = compute_returns(prices)\n",
    "    signal = compute_signal(returns, signal_function, *args)\n",
    "    positions = compute_position(signal)\n",
    "    strategy_returns = compute_strategy_returns(returns, positions)\n",
    "\n",
    "    all_days = strategy_returns.index\n",
    "\n",
    "    level = 100\n",
    "    all_levels = {all_days[0]: level}\n",
    "    for day in all_days[1:]: \n",
    "        level *= strategy_returns[day]\n",
    "        all_levels[day] = level\n",
    "    return pd.Series(all_levels)"
   ]
  },
  {
   "cell_type": "markdown",
   "metadata": {},
   "source": [
    "## Signal Options"
   ]
  },
  {
   "cell_type": "code",
   "execution_count": null,
   "metadata": {},
   "outputs": [],
   "source": [
    "def return_signal(returns): \n",
    "    signal = returns.map(lambda x: 1 if x > 0 else (0 if x == 0 else -1))\n",
    "    return signal\n",
    "\n",
    "def average_return_signal(returns, window): \n",
    "    average_returns = compute_moving_average(returns, window)\n",
    "    signal = average_returns.map(lambda x: 1 if x > 0 else (0 if x == 0 else -1))\n",
    "    return signal\n",
    "\n",
    "def crossing_averages_signal(returns, short_window, long_window): \n",
    "    short_ma = compute_moving_average(returns, short_window)\n",
    "    long_ma = compute_moving_average(returns, long_window)\n",
    "    difference = short_ma - long_ma\n",
    "    signal = difference.map(lambda x: 1 if x > 0 else (0 if x == 0 else -1))\n",
    "    return signal\n",
    "\n",
    "def selective_return_signal(returns, window, num_chosen): \n",
    "    average_returns = compute_moving_average(returns, window)\n",
    "    ranked_returns = average_returns.rank(axis = 1, ascending = False)\n",
    "    signal = ranked_returns.map(lambda x: 1 if x < num_chosen + 1 else -1)\n",
    "    return signal\n",
    "\n",
    "def selective_return_long_only_signal(returns, window, num_chosen): \n",
    "    average_returns = compute_moving_average(returns, window)\n",
    "    ranked_returns = average_returns.rank(axis = 1, ascending = False)\n",
    "    signal = ranked_returns.map(lambda x: 1 if x < num_chosen + 1 else 0)\n",
    "    return signal"
   ]
  },
  {
   "cell_type": "markdown",
   "metadata": {},
   "source": [
    "## Analytics"
   ]
  },
  {
   "cell_type": "code",
   "execution_count": 97,
   "metadata": {},
   "outputs": [],
   "source": [
    "def sharpe_ratio(levels: pd.Series): \n",
    "    returns = np.log(levels).diff()\n",
    "    volatility = returns.std() * np.sqrt(252)\n",
    "    return returns.mean() * 252 / volatility\n",
    "\n",
    "def max_drawdown(levels: pd.Series): \n",
    "    levels_list = levels.tolist()\n",
    "    min_idx = np.argmax(np.maximum.accumulate(levels_list) - levels_list) \n",
    "    max_idx = np.argmanx(levels_list[:min_idx])\n",
    "    min_val = levels_list[min_idx]\n",
    "    max_val = levels_list[max_idx]\n",
    "    return (max_val - min_val) / max_val * 100\n",
    "    "
   ]
  },
  {
   "cell_type": "code",
   "execution_count": 99,
   "metadata": {},
   "outputs": [],
   "source": [
    "def test_parameters_for_strategy(prices, signal_function, *args): \n",
    "    records = {}\n",
    "    max_sharpe_ratio = -10 # Initialise to low value\n",
    "    max_key = None\n",
    "    parameter_combinations = list(itertools.product(*args))\n",
    "    for combination in parameter_combinations: \n",
    "        levels = compute_strategy(prices, signal_function, *combination)\n",
    "        sharpe = sharpe_ratio(levels)\n",
    "        mdd = max_drawdown(levels)\n",
    "        records[combination] = [sharpe, mdd]\n",
    "        if sharpe > max_sharpe_ratio: \n",
    "            max_sharpe_ratio = sharpe\n",
    "            max_key = combination\n",
    "    return records, max_sharpe_ratio, max_key"
   ]
  },
  {
   "cell_type": "markdown",
   "metadata": {},
   "source": [
    "### Your testing here ... "
   ]
  },
  {
   "cell_type": "code",
   "execution_count": 100,
   "metadata": {},
   "outputs": [
    {
     "data": {
      "text/html": [
       "<div>\n",
       "<style scoped>\n",
       "    .dataframe tbody tr th:only-of-type {\n",
       "        vertical-align: middle;\n",
       "    }\n",
       "\n",
       "    .dataframe tbody tr th {\n",
       "        vertical-align: top;\n",
       "    }\n",
       "\n",
       "    .dataframe thead th {\n",
       "        text-align: right;\n",
       "    }\n",
       "</style>\n",
       "<table border=\"1\" class=\"dataframe\">\n",
       "  <thead>\n",
       "    <tr style=\"text-align: right;\">\n",
       "      <th></th>\n",
       "      <th>AAPL</th>\n",
       "      <th>AMZN</th>\n",
       "      <th>GOOGL</th>\n",
       "      <th>MSFT</th>\n",
       "    </tr>\n",
       "  </thead>\n",
       "  <tbody>\n",
       "    <tr>\n",
       "      <th>2004-08-19</th>\n",
       "      <td>0.4626</td>\n",
       "      <td>1.9269</td>\n",
       "      <td>2.5099</td>\n",
       "      <td>16.9629</td>\n",
       "    </tr>\n",
       "    <tr>\n",
       "      <th>2004-08-20</th>\n",
       "      <td>0.4639</td>\n",
       "      <td>1.9708</td>\n",
       "      <td>2.7094</td>\n",
       "      <td>17.0129</td>\n",
       "    </tr>\n",
       "    <tr>\n",
       "      <th>2004-08-23</th>\n",
       "      <td>0.4681</td>\n",
       "      <td>1.9678</td>\n",
       "      <td>2.7367</td>\n",
       "      <td>17.0879</td>\n",
       "    </tr>\n",
       "    <tr>\n",
       "      <th>2004-08-24</th>\n",
       "      <td>0.4812</td>\n",
       "      <td>1.9478</td>\n",
       "      <td>2.6233</td>\n",
       "      <td>17.0879</td>\n",
       "    </tr>\n",
       "    <tr>\n",
       "      <th>2004-08-25</th>\n",
       "      <td>0.4978</td>\n",
       "      <td>2.0102</td>\n",
       "      <td>2.6516</td>\n",
       "      <td>17.2824</td>\n",
       "    </tr>\n",
       "  </tbody>\n",
       "</table>\n",
       "</div>"
      ],
      "text/plain": [
       "              AAPL    AMZN   GOOGL     MSFT\n",
       "2004-08-19  0.4626  1.9269  2.5099  16.9629\n",
       "2004-08-20  0.4639  1.9708  2.7094  17.0129\n",
       "2004-08-23  0.4681  1.9678  2.7367  17.0879\n",
       "2004-08-24  0.4812  1.9478  2.6233  17.0879\n",
       "2004-08-25  0.4978  2.0102  2.6516  17.2824"
      ]
     },
     "execution_count": 100,
     "metadata": {},
     "output_type": "execute_result"
    }
   ],
   "source": [
    "prices = pd.read_pickle(r\"input_prices.pkl\")\n",
    "prices.head()"
   ]
  }
 ],
 "metadata": {
  "kernelspec": {
   "display_name": "Python 3",
   "language": "python",
   "name": "python3"
  },
  "language_info": {
   "codemirror_mode": {
    "name": "ipython",
    "version": 3
   },
   "file_extension": ".py",
   "mimetype": "text/x-python",
   "name": "python",
   "nbconvert_exporter": "python",
   "pygments_lexer": "ipython3",
   "version": "3.11.0"
  }
 },
 "nbformat": 4,
 "nbformat_minor": 2
}
