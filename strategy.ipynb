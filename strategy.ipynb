{
 "cells": [
  {
   "cell_type": "code",
   "execution_count": 16,
   "metadata": {},
   "outputs": [],
   "source": [
    "import datetime\n",
    "import pandas as pd \n",
    "import numpy as np \n",
    "import os\n",
    "import glob \n",
    "import matplotlib.pyplot as plt\n",
    "import itertools\n",
    "from attrs import define, field"
   ]
  },
  {
   "cell_type": "markdown",
   "metadata": {},
   "source": [
    "## Strategy"
   ]
  },
  {
   "cell_type": "code",
   "execution_count": 17,
   "metadata": {},
   "outputs": [],
   "source": [
    "def compute_returns(prices): \n",
    "    return (prices - prices.shift(1)) / prices\n",
    "\n",
    "def compute_moving_average(returns, window): \n",
    "    return returns.rolling(window).mean()\n",
    "\n",
    "def compute_signal(returns, signal_function, *args): \n",
    "    signal = signal_function(returns, *args)\n",
    "    return signal\n",
    "\n",
    "def compute_position(signal, position_scale = 0.1): \n",
    "    return signal * position_scale\n",
    "\n",
    "def compute_strategy_returns(returns, positions): \n",
    "    return 1 + (returns * positions.shift(1)).sum(axis = 1)\n",
    "\n",
    "def compute_strategy(prices, signal_function, *args): \n",
    "    returns = compute_returns(prices)\n",
    "    signal = compute_signal(returns, signal_function, *args)\n",
    "    positions = compute_position(signal)\n",
    "    strategy_returns = compute_strategy_returns(returns, positions)\n",
    "\n",
    "    all_days = strategy_returns.index\n",
    "\n",
    "    level = 100\n",
    "    all_levels = {all_days[0]: level}\n",
    "    for day in all_days[1:]: \n",
    "        level *= strategy_returns[day]\n",
    "        all_levels[day] = level\n",
    "    return pd.Series(all_levels)"
   ]
  },
  {
   "cell_type": "markdown",
   "metadata": {},
   "source": [
    "## Signal Options"
   ]
  },
  {
   "cell_type": "code",
   "execution_count": 18,
   "metadata": {},
   "outputs": [],
   "source": [
    "def return_signal(returns): \n",
    "    signal = returns.map(lambda x: 1 if x > 0 else (0 if x == 0 else -1))\n",
    "    return signal\n",
    "\n",
    "def average_return_signal(returns, window): \n",
    "    average_returns = compute_moving_average(returns, window)\n",
    "    signal = average_returns.map(lambda x: 1 if x > 0 else (0 if x == 0 else -1))\n",
    "    return signal\n",
    "\n",
    "def crossing_averages_signal(returns, short_window, long_window): \n",
    "    short_ma = compute_moving_average(returns, short_window)\n",
    "    long_ma = compute_moving_average(returns, long_window)\n",
    "    difference = short_ma - long_ma\n",
    "    signal = difference.map(lambda x: 1 if x > 0 else (0 if x == 0 else -1))\n",
    "    return signal\n",
    "\n",
    "def selective_return_signal(returns, window, num_chosen): \n",
    "    average_returns = compute_moving_average(returns, window)\n",
    "    ranked_returns = average_returns.rank(axis = 1, ascending = False)\n",
    "    signal = ranked_returns.map(lambda x: 1 if x < num_chosen + 1 else -1)\n",
    "    return signal\n",
    "\n",
    "def selective_return_long_only_signal(returns, window, num_chosen): \n",
    "    average_returns = compute_moving_average(returns, window)\n",
    "    ranked_returns = average_returns.rank(axis = 1, ascending = False)\n",
    "    signal = ranked_returns.map(lambda x: 1 if x < num_chosen + 1 else 0)\n",
    "    return signal"
   ]
  },
  {
   "cell_type": "markdown",
   "metadata": {},
   "source": [
    "## Analytics"
   ]
  },
  {
   "cell_type": "code",
   "execution_count": 24,
   "metadata": {},
   "outputs": [],
   "source": [
    "def sharpe_ratio(levels: pd.Series): \n",
    "    returns = np.log(levels).diff()\n",
    "    volatility = returns.std() * np.sqrt(252)\n",
    "    return returns.mean() * 252 / volatility\n",
    "\n",
    "def max_drawdown(levels: pd.Series): \n",
    "    levels_list = levels.tolist()\n",
    "    min_idx = np.argmax(np.maximum.accumulate(levels_list) - levels_list) \n",
    "    max_idx = np.argmax(levels_list[:min_idx])\n",
    "    min_val = levels_list[min_idx]\n",
    "    max_val = levels_list[max_idx]\n",
    "    return (max_val - min_val) / max_val * 100\n",
    "    "
   ]
  },
  {
   "cell_type": "code",
   "execution_count": 20,
   "metadata": {},
   "outputs": [],
   "source": [
    "def test_parameters_for_strategy(prices, signal_function, *args): \n",
    "    records = {}\n",
    "    max_sharpe_ratio = -10 # Initialise to low value\n",
    "    max_key = None\n",
    "    parameter_combinations = list(itertools.product(*args))\n",
    "    for combination in parameter_combinations: \n",
    "        levels = compute_strategy(prices, signal_function, *combination)\n",
    "        sharpe = sharpe_ratio(levels)\n",
    "        mdd = max_drawdown(levels)\n",
    "        records[combination] = [sharpe, mdd]\n",
    "        if sharpe > max_sharpe_ratio: \n",
    "            max_sharpe_ratio = sharpe\n",
    "            max_key = combination\n",
    "    return records, max_sharpe_ratio, max_key"
   ]
  },
  {
   "cell_type": "markdown",
   "metadata": {},
   "source": [
    "### Testing "
   ]
  },
  {
   "cell_type": "code",
   "execution_count": 21,
   "metadata": {},
   "outputs": [
    {
     "data": {
      "text/html": [
       "<div>\n",
       "<style scoped>\n",
       "    .dataframe tbody tr th:only-of-type {\n",
       "        vertical-align: middle;\n",
       "    }\n",
       "\n",
       "    .dataframe tbody tr th {\n",
       "        vertical-align: top;\n",
       "    }\n",
       "\n",
       "    .dataframe thead th {\n",
       "        text-align: right;\n",
       "    }\n",
       "</style>\n",
       "<table border=\"1\" class=\"dataframe\">\n",
       "  <thead>\n",
       "    <tr style=\"text-align: right;\">\n",
       "      <th></th>\n",
       "      <th>AAPL</th>\n",
       "      <th>AMZN</th>\n",
       "      <th>GOOGL</th>\n",
       "      <th>MSFT</th>\n",
       "    </tr>\n",
       "  </thead>\n",
       "  <tbody>\n",
       "    <tr>\n",
       "      <th>2004-08-19</th>\n",
       "      <td>0.4626</td>\n",
       "      <td>1.9269</td>\n",
       "      <td>2.5099</td>\n",
       "      <td>16.9629</td>\n",
       "    </tr>\n",
       "    <tr>\n",
       "      <th>2004-08-20</th>\n",
       "      <td>0.4639</td>\n",
       "      <td>1.9708</td>\n",
       "      <td>2.7094</td>\n",
       "      <td>17.0129</td>\n",
       "    </tr>\n",
       "    <tr>\n",
       "      <th>2004-08-23</th>\n",
       "      <td>0.4681</td>\n",
       "      <td>1.9678</td>\n",
       "      <td>2.7367</td>\n",
       "      <td>17.0879</td>\n",
       "    </tr>\n",
       "    <tr>\n",
       "      <th>2004-08-24</th>\n",
       "      <td>0.4812</td>\n",
       "      <td>1.9478</td>\n",
       "      <td>2.6233</td>\n",
       "      <td>17.0879</td>\n",
       "    </tr>\n",
       "    <tr>\n",
       "      <th>2004-08-25</th>\n",
       "      <td>0.4978</td>\n",
       "      <td>2.0102</td>\n",
       "      <td>2.6516</td>\n",
       "      <td>17.2824</td>\n",
       "    </tr>\n",
       "  </tbody>\n",
       "</table>\n",
       "</div>"
      ],
      "text/plain": [
       "              AAPL    AMZN   GOOGL     MSFT\n",
       "2004-08-19  0.4626  1.9269  2.5099  16.9629\n",
       "2004-08-20  0.4639  1.9708  2.7094  17.0129\n",
       "2004-08-23  0.4681  1.9678  2.7367  17.0879\n",
       "2004-08-24  0.4812  1.9478  2.6233  17.0879\n",
       "2004-08-25  0.4978  2.0102  2.6516  17.2824"
      ]
     },
     "execution_count": 21,
     "metadata": {},
     "output_type": "execute_result"
    }
   ],
   "source": [
    "prices = pd.read_pickle(r\"input_prices.pkl\")\n",
    "prices.head()"
   ]
  },
  {
   "cell_type": "code",
   "execution_count": 28,
   "metadata": {},
   "outputs": [],
   "source": [
    "@define(kw_only = True)\n",
    "class StrategyTest: \n",
    "    uid: str\n",
    "    signal_func: object\n",
    "    parameters: list = []\n",
    "\n",
    "    all_records: dict = field(init = False, default = None)\n",
    "    max_sharpe_ratio: float = field(init = False, default = None)\n",
    "    max_key: list = field(init = False, default = None)\n",
    "\n",
    "    def test_parameters(self, prices): \n",
    "        self.all_records, self.max_sharpe_ratio, self.max_key = test_parameters_for_strategy(prices, self.signal_func, *self.parameters)\n",
    "\n",
    "    def compute_strategy_with_max_parameters(self, prices): \n",
    "        return compute_strategy(prices, self.signal_func, *self.max_key)\n",
    "\n",
    "strategies = [\n",
    "                StrategyTest(uid = 'ReturnsOnly', \n",
    "                             signal_func = return_signal), \n",
    "                StrategyTest(uid = 'AverageReturn', \n",
    "                             signal_func = average_return_signal, \n",
    "                             parameters = [[5, 10, 25, 50, 100, 252]]), \n",
    "                StrategyTest(uid = 'CrossingAverages',\n",
    "                             signal_func = crossing_averages_signal, \n",
    "                             parameters = [[5, 10, 25, 50], [100, 252, 500]]), \n",
    "                StrategyTest(uid = 'SelectiveReturns', \n",
    "                             signal_func = selective_return_signal, \n",
    "                             parameters = [[5, 10, 25, 50, 100, 252], [1, 2, 3]]), \n",
    "                StrategyTest(uid = 'SelectiveReturnsLongOnly', \n",
    "                             signal_func = selective_return_long_only_signal, \n",
    "                             parameters = [[5, 10, 25, 50, 100, 252], [1, 2, 3]]),\n",
    "]"
   ]
  },
  {
   "cell_type": "code",
   "execution_count": 34,
   "metadata": {},
   "outputs": [
    {
     "name": "stdout",
     "output_type": "stream",
     "text": [
      "Strategy ReturnsOnly has maximum Sharpe Ratio of -0.24704327177049265 with key ()\n",
      "These parameters yield a max drawdown of 44.5815291558671\n",
      "\n",
      "Strategy AverageReturn has maximum Sharpe Ratio of 0.27370723392210256 with key (25,)\n",
      "These parameters yield a max drawdown of 15.976142824143706\n",
      "\n",
      "Strategy CrossingAverages has maximum Sharpe Ratio of 0.15882108232565645 with key (25, 100)\n",
      "These parameters yield a max drawdown of 18.17809713434456\n",
      "\n",
      "Strategy SelectiveReturns has maximum Sharpe Ratio of 0.5970603777044277 with key (10, 3)\n",
      "These parameters yield a max drawdown of 17.834203434595377\n",
      "\n",
      "Strategy SelectiveReturnsLongOnly has maximum Sharpe Ratio of 0.7476470358882656 with key (25, 1)\n",
      "These parameters yield a max drawdown of 13.670813432287215\n",
      "\n"
     ]
    }
   ],
   "source": [
    "# Compute optimal parameters \n",
    "for strategy in strategies: \n",
    "    strategy.test_parameters(prices = prices)\n",
    "    \n",
    "    print(f'Strategy {strategy.uid} has maximum Sharpe Ratio of {strategy.max_sharpe_ratio} with key {strategy.max_key}')\n",
    "    print(f'These parameters yield a max drawdown of {strategy.all_records[strategy.max_key][1]}')\n",
    "    print('')"
   ]
  },
  {
   "cell_type": "markdown",
   "metadata": {
    "vscode": {
     "languageId": "plaintext"
    }
   },
   "source": [
    "### Live Level Testing\n",
    "1. Testing optimal parameters from backtesting on live levels \n",
    "2. Computing optimal parameters from live levels"
   ]
  },
  {
   "cell_type": "code",
   "execution_count": 35,
   "metadata": {},
   "outputs": [
    {
     "data": {
      "text/html": [
       "<div>\n",
       "<style scoped>\n",
       "    .dataframe tbody tr th:only-of-type {\n",
       "        vertical-align: middle;\n",
       "    }\n",
       "\n",
       "    .dataframe tbody tr th {\n",
       "        vertical-align: top;\n",
       "    }\n",
       "\n",
       "    .dataframe thead th {\n",
       "        text-align: right;\n",
       "    }\n",
       "</style>\n",
       "<table border=\"1\" class=\"dataframe\">\n",
       "  <thead>\n",
       "    <tr style=\"text-align: right;\">\n",
       "      <th></th>\n",
       "      <th>AAPL</th>\n",
       "      <th>AMZN</th>\n",
       "      <th>GOOGL</th>\n",
       "      <th>MSFT</th>\n",
       "    </tr>\n",
       "  </thead>\n",
       "  <tbody>\n",
       "    <tr>\n",
       "      <th>2021-08-19</th>\n",
       "      <td>144.1302</td>\n",
       "      <td>159.0045</td>\n",
       "      <td>135.3431</td>\n",
       "      <td>289.3040</td>\n",
       "    </tr>\n",
       "    <tr>\n",
       "      <th>2021-08-20</th>\n",
       "      <td>145.5941</td>\n",
       "      <td>159.6131</td>\n",
       "      <td>137.0883</td>\n",
       "      <td>296.7030</td>\n",
       "    </tr>\n",
       "    <tr>\n",
       "      <th>2021-08-23</th>\n",
       "      <td>147.0875</td>\n",
       "      <td>162.9012</td>\n",
       "      <td>139.6938</td>\n",
       "      <td>296.9857</td>\n",
       "    </tr>\n",
       "    <tr>\n",
       "      <th>2021-08-24</th>\n",
       "      <td>146.9991</td>\n",
       "      <td>164.8919</td>\n",
       "      <td>140.9107</td>\n",
       "      <td>295.0068</td>\n",
       "    </tr>\n",
       "    <tr>\n",
       "      <th>2021-08-25</th>\n",
       "      <td>145.7612</td>\n",
       "      <td>164.5627</td>\n",
       "      <td>141.7262</td>\n",
       "      <td>294.4121</td>\n",
       "    </tr>\n",
       "  </tbody>\n",
       "</table>\n",
       "</div>"
      ],
      "text/plain": [
       "                AAPL      AMZN     GOOGL      MSFT\n",
       "2021-08-19  144.1302  159.0045  135.3431  289.3040\n",
       "2021-08-20  145.5941  159.6131  137.0883  296.7030\n",
       "2021-08-23  147.0875  162.9012  139.6938  296.9857\n",
       "2021-08-24  146.9991  164.8919  140.9107  295.0068\n",
       "2021-08-25  145.7612  164.5627  141.7262  294.4121"
      ]
     },
     "execution_count": 35,
     "metadata": {},
     "output_type": "execute_result"
    }
   ],
   "source": [
    "live_prices = pd.read_pickle(r'other_prices.pkl')\n",
    "live_prices.head()"
   ]
  },
  {
   "cell_type": "code",
   "execution_count": 36,
   "metadata": {},
   "outputs": [
    {
     "name": "stdout",
     "output_type": "stream",
     "text": [
      "Strategy ReturnsOnly has SR -0.005243821351830233 and MDD 13.35785093068617 with backtest optimal parameters of ()\n",
      "\n",
      "Strategy AverageReturn has SR -0.6082886965924733 and MDD 18.206040773775484 with backtest optimal parameters of (25,)\n",
      "\n",
      "Strategy CrossingAverages has SR -0.28567972887215015 and MDD 16.729568389474082 with backtest optimal parameters of (25, 100)\n",
      "\n",
      "Strategy SelectiveReturns has SR -0.5594680128839289 and MDD 17.76024720735097 with backtest optimal parameters of (10, 3)\n",
      "\n",
      "Strategy SelectiveReturnsLongOnly has SR 0.2298456670607178 and MDD 7.406635816441434 with backtest optimal parameters of (25, 1)\n",
      "\n"
     ]
    }
   ],
   "source": [
    "# Test backtesting optimal parameters on live prices \n",
    "for strategy in strategies: \n",
    "    levels = strategy.compute_strategy_with_max_parameters(live_prices)\n",
    "    sr = sharpe_ratio(levels)\n",
    "    mdd = max_drawdown(levels)\n",
    "    \n",
    "    print(f'Strategy {strategy.uid} has SR {sr} and MDD {mdd} with backtest optimal parameters of {strategy.max_key}')\n",
    "    print('')"
   ]
  },
  {
   "cell_type": "code",
   "execution_count": 37,
   "metadata": {},
   "outputs": [
    {
     "name": "stdout",
     "output_type": "stream",
     "text": [
      "Strategy ReturnsOnly has maximum Sharpe Ratio of -0.005243821351830233 with key ()\n",
      "These parameters yield a max drawdown of 13.35785093068617\n",
      "\n",
      "Strategy AverageReturn has maximum Sharpe Ratio of 0.20620678980474233 with key (252,)\n",
      "These parameters yield a max drawdown of 16.41179559180987\n",
      "\n",
      "Strategy CrossingAverages has maximum Sharpe Ratio of 0.05670574642995853 with key (50, 500)\n",
      "These parameters yield a max drawdown of 16.46060082112769\n",
      "\n",
      "Strategy SelectiveReturns has maximum Sharpe Ratio of 0.4116801670837305 with key (252, 3)\n",
      "These parameters yield a max drawdown of 11.674984758878207\n",
      "\n",
      "Strategy SelectiveReturnsLongOnly has maximum Sharpe Ratio of 0.46014136030525943 with key (252, 3)\n",
      "These parameters yield a max drawdown of 9.310348315170216\n",
      "\n"
     ]
    }
   ],
   "source": [
    "for strategy in strategies: \n",
    "    strategy.test_parameters(prices = live_prices)\n",
    "    \n",
    "    print(f'Strategy {strategy.uid} has maximum Sharpe Ratio of {strategy.max_sharpe_ratio} with key {strategy.max_key}')\n",
    "    print(f'These parameters yield a max drawdown of {strategy.all_records[strategy.max_key][1]}')\n",
    "    print('')"
   ]
  }
 ],
 "metadata": {
  "kernelspec": {
   "display_name": "Python 3",
   "language": "python",
   "name": "python3"
  },
  "language_info": {
   "codemirror_mode": {
    "name": "ipython",
    "version": 3
   },
   "file_extension": ".py",
   "mimetype": "text/x-python",
   "name": "python",
   "nbconvert_exporter": "python",
   "pygments_lexer": "ipython3",
   "version": "3.11.0"
  }
 },
 "nbformat": 4,
 "nbformat_minor": 2
}
